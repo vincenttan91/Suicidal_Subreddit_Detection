{
 "cells": [
  {
   "cell_type": "markdown",
   "metadata": {},
   "source": [
    "# Suicidal Thread Detection in Reddit (Part 2)"
   ]
  },
  {
   "cell_type": "markdown",
   "metadata": {},
   "source": [
    "This report is a continuation from the Project Part 1 with the same project name. The project background and data collection was encapsulated in Part 1. Hence, Part 2 will only cover the modelling, evaluation and conclusion scope."
   ]
  },
  {
   "cell_type": "markdown",
   "metadata": {
    "toc": true
   },
   "source": [
    "<h1>Table of Contents<span class=\"tocSkip\"></span></h1>\n",
    "<div class=\"toc\"><ul class=\"toc-item\"><li><span><a href=\"#Initialization\" data-toc-modified-id=\"Initialization-1\"><span class=\"toc-item-num\">1&nbsp;&nbsp;</span>Initialization</a></span></li><li><span><a href=\"#Modelling\" data-toc-modified-id=\"Modelling-2\"><span class=\"toc-item-num\">2&nbsp;&nbsp;</span>Modelling</a></span><ul class=\"toc-item\"><li><span><a href=\"#Logistics-Regression\" data-toc-modified-id=\"Logistics-Regression-2.1\"><span class=\"toc-item-num\">2.1&nbsp;&nbsp;</span>Logistics Regression</a></span><ul class=\"toc-item\"><li><span><a href=\"#Count-Vectorizer\" data-toc-modified-id=\"Count-Vectorizer-2.1.1\"><span class=\"toc-item-num\">2.1.1&nbsp;&nbsp;</span>Count Vectorizer</a></span></li><li><span><a href=\"#Tfidf-Vectorizer\" data-toc-modified-id=\"Tfidf-Vectorizer-2.1.2\"><span class=\"toc-item-num\">2.1.2&nbsp;&nbsp;</span>Tfidf Vectorizer</a></span></li></ul></li><li><span><a href=\"#Naive-Bayes\" data-toc-modified-id=\"Naive-Bayes-2.2\"><span class=\"toc-item-num\">2.2&nbsp;&nbsp;</span>Naive-Bayes</a></span><ul class=\"toc-item\"><li><span><a href=\"#Count-Vectorizer\" data-toc-modified-id=\"Count-Vectorizer-2.2.1\"><span class=\"toc-item-num\">2.2.1&nbsp;&nbsp;</span>Count Vectorizer</a></span></li><li><span><a href=\"#Tfidf-Vectorizer\" data-toc-modified-id=\"Tfidf-Vectorizer-2.2.2\"><span class=\"toc-item-num\">2.2.2&nbsp;&nbsp;</span>Tfidf Vectorizer</a></span></li></ul></li></ul></li><li><span><a href=\"#Evaluation\" data-toc-modified-id=\"Evaluation-3\"><span class=\"toc-item-num\">3&nbsp;&nbsp;</span>Evaluation</a></span></li><li><span><a href=\"#Inferences\" data-toc-modified-id=\"Inferences-4\"><span class=\"toc-item-num\">4&nbsp;&nbsp;</span>Inferences</a></span><ul class=\"toc-item\"><li><span><a href=\"#Top-Words\" data-toc-modified-id=\"Top-Words-4.1\"><span class=\"toc-item-num\">4.1&nbsp;&nbsp;</span>Top Words</a></span></li></ul></li><li><span><a href=\"#Control-Set\" data-toc-modified-id=\"Control-Set-5\"><span class=\"toc-item-num\">5&nbsp;&nbsp;</span>Control Set</a></span></li><li><span><a href=\"#Conclusion\" data-toc-modified-id=\"Conclusion-6\"><span class=\"toc-item-num\">6&nbsp;&nbsp;</span>Conclusion</a></span></li></ul></div>"
   ]
  },
  {
   "cell_type": "markdown",
   "metadata": {},
   "source": [
    "## Initialization"
   ]
  },
  {
   "cell_type": "code",
   "execution_count": 1,
   "metadata": {},
   "outputs": [],
   "source": [
    "# Import Vanilla Libraries\n",
    "import pandas as pd\n",
    "import numpy as np\n",
    "import matplotlib.pyplot as plt"
   ]
  },
  {
   "cell_type": "code",
   "execution_count": 2,
   "metadata": {},
   "outputs": [],
   "source": [
    "# Import Machine Learning Libraries\n",
    "from sklearn.model_selection import train_test_split, GridSearchCV, cross_val_score\n",
    "from sklearn.linear_model import LogisticRegression\n",
    "from sklearn.pipeline import Pipeline\n",
    "from sklearn.feature_extraction.text import CountVectorizer, TfidfVectorizer\n",
    "from sklearn.metrics import plot_confusion_matrix, confusion_matrix, ConfusionMatrixDisplay\n",
    "from sklearn.naive_bayes import MultinomialNB"
   ]
  },
  {
   "cell_type": "code",
   "execution_count": 3,
   "metadata": {},
   "outputs": [],
   "source": [
    "# Read in the text file that was compiled in Part 1\n",
    "df = pd.read_csv('./Datasets/cleaned_data.csv')"
   ]
  },
  {
   "cell_type": "code",
   "execution_count": 4,
   "metadata": {},
   "outputs": [
    {
     "data": {
      "text/html": [
       "<div>\n",
       "<style scoped>\n",
       "    .dataframe tbody tr th:only-of-type {\n",
       "        vertical-align: middle;\n",
       "    }\n",
       "\n",
       "    .dataframe tbody tr th {\n",
       "        vertical-align: top;\n",
       "    }\n",
       "\n",
       "    .dataframe thead th {\n",
       "        text-align: right;\n",
       "    }\n",
       "</style>\n",
       "<table border=\"1\" class=\"dataframe\">\n",
       "  <thead>\n",
       "    <tr style=\"text-align: right;\">\n",
       "      <th></th>\n",
       "      <th>upvote_ratio</th>\n",
       "      <th>ups</th>\n",
       "      <th>num_comments</th>\n",
       "      <th>subreddit_subscribers</th>\n",
       "      <th>text</th>\n",
       "      <th>suicidal</th>\n",
       "      <th>full_text</th>\n",
       "    </tr>\n",
       "  </thead>\n",
       "  <tbody>\n",
       "    <tr>\n",
       "      <th>1256</th>\n",
       "      <td>0.99</td>\n",
       "      <td>536</td>\n",
       "      <td>38</td>\n",
       "      <td>200930</td>\n",
       "      <td>amaz peopl act attent seekingli social medium ...</td>\n",
       "      <td>1</td>\n",
       "      <td>Its amazing how people act so attention-seekin...</td>\n",
       "    </tr>\n",
       "    <tr>\n",
       "      <th>1269</th>\n",
       "      <td>0.99</td>\n",
       "      <td>520</td>\n",
       "      <td>138</td>\n",
       "      <td>200930</td>\n",
       "      <td>peopl work everyday job hate without want kill...</td>\n",
       "      <td>1</td>\n",
       "      <td>How do people work everyday in jobs they hate ...</td>\n",
       "    </tr>\n",
       "    <tr>\n",
       "      <th>1061</th>\n",
       "      <td>0.99</td>\n",
       "      <td>899</td>\n",
       "      <td>88</td>\n",
       "      <td>200930</td>\n",
       "      <td>feel like useless npc like joke charact one in...</td>\n",
       "      <td>1</td>\n",
       "      <td>Do you feel like a useless NPC ? Like a joke c...</td>\n",
       "    </tr>\n",
       "    <tr>\n",
       "      <th>1742</th>\n",
       "      <td>0.99</td>\n",
       "      <td>211</td>\n",
       "      <td>26</td>\n",
       "      <td>200930</td>\n",
       "      <td>want die bad want die bad tire alon tire feel ...</td>\n",
       "      <td>1</td>\n",
       "      <td>I want to die so bad I want to die so bad. I'm...</td>\n",
       "    </tr>\n",
       "    <tr>\n",
       "      <th>547</th>\n",
       "      <td>0.98</td>\n",
       "      <td>725</td>\n",
       "      <td>105</td>\n",
       "      <td>413426</td>\n",
       "      <td>mum accept intern move sorri format mobil move...</td>\n",
       "      <td>0</td>\n",
       "      <td>Mum doesn't accept my international move Sorry...</td>\n",
       "    </tr>\n",
       "  </tbody>\n",
       "</table>\n",
       "</div>"
      ],
      "text/plain": [
       "      upvote_ratio  ups  num_comments  subreddit_subscribers  \\\n",
       "1256          0.99  536            38                 200930   \n",
       "1269          0.99  520           138                 200930   \n",
       "1061          0.99  899            88                 200930   \n",
       "1742          0.99  211            26                 200930   \n",
       "547           0.98  725           105                 413426   \n",
       "\n",
       "                                                   text  suicidal  \\\n",
       "1256  amaz peopl act attent seekingli social medium ...         1   \n",
       "1269  peopl work everyday job hate without want kill...         1   \n",
       "1061  feel like useless npc like joke charact one in...         1   \n",
       "1742  want die bad want die bad tire alon tire feel ...         1   \n",
       "547   mum accept intern move sorri format mobil move...         0   \n",
       "\n",
       "                                              full_text  \n",
       "1256  Its amazing how people act so attention-seekin...  \n",
       "1269  How do people work everyday in jobs they hate ...  \n",
       "1061  Do you feel like a useless NPC ? Like a joke c...  \n",
       "1742  I want to die so bad I want to die so bad. I'm...  \n",
       "547   Mum doesn't accept my international move Sorry...  "
      ]
     },
     "execution_count": 4,
     "metadata": {},
     "output_type": "execute_result"
    }
   ],
   "source": [
    "# Sanity check on the content of our dataset from Part 1\n",
    "df.sample(5)"
   ]
  },
  {
   "cell_type": "markdown",
   "metadata": {},
   "source": [
    "## Modelling"
   ]
  },
  {
   "cell_type": "markdown",
   "metadata": {},
   "source": [
    "For the case of our modelling attempt, we will only be considering the 'text' column as the only features. This is because if our model were to predict a new post, the post would not have any of the numerical feature, eg. it will have 0 ups and 0 comments. So our model should be able to perform the classification when they are only bare text made up of the title and selftext."
   ]
  },
  {
   "cell_type": "code",
   "execution_count": 5,
   "metadata": {},
   "outputs": [],
   "source": [
    "# Assigning the features (X) and target variable (y)\n",
    "X = df['text']\n",
    "y = df['suicidal']"
   ]
  },
  {
   "cell_type": "code",
   "execution_count": 6,
   "metadata": {},
   "outputs": [
    {
     "data": {
      "text/plain": [
       "1    0.500764\n",
       "0    0.499236\n",
       "Name: suicidal, dtype: float64"
      ]
     },
     "execution_count": 6,
     "metadata": {},
     "output_type": "execute_result"
    }
   ],
   "source": [
    "# Proportion of Class 1 and 0\n",
    "y.value_counts(normalize=True)"
   ]
  },
  {
   "cell_type": "code",
   "execution_count": 7,
   "metadata": {},
   "outputs": [
    {
     "name": "stdout",
     "output_type": "stream",
     "text": [
      "Baseline Accuracy:  0.501\n"
     ]
    }
   ],
   "source": [
    "# Baseline Model Accuracy\n",
    "print(\"Baseline Accuracy: \", round(y.value_counts(normalize=True), 3).values.max())"
   ]
  },
  {
   "cell_type": "markdown",
   "metadata": {},
   "source": [
    "As stated above, our baseline accuracy would be 0.501, so our model is required to perform better than this benchmark (have a higher accuracy score) to be considered feasible for deployment."
   ]
  },
  {
   "cell_type": "code",
   "execution_count": 8,
   "metadata": {},
   "outputs": [],
   "source": [
    "# Train-test split with stratification\n",
    "X_train, X_test, y_train, y_test = train_test_split(X, y, test_size = 0.2, \n",
    "                                                    random_state=42, stratify=y)"
   ]
  },
  {
   "cell_type": "code",
   "execution_count": 9,
   "metadata": {},
   "outputs": [
    {
     "data": {
      "text/plain": [
       "1    0.500637\n",
       "0    0.499363\n",
       "Name: suicidal, dtype: float64"
      ]
     },
     "execution_count": 9,
     "metadata": {},
     "output_type": "execute_result"
    }
   ],
   "source": [
    "# Sanity check on the proportion\n",
    "y_train.value_counts(normalize=True)"
   ]
  },
  {
   "cell_type": "markdown",
   "metadata": {},
   "source": [
    "From the sanity check above, we can see that the training and testing data are indeed stratified based on the ratio of classes in the full data set. So we may now proceed with the tokenization and model building stage. We will be performing 2 classification technique, Logistic Regression and Naive-Bayes Multinomial Model - and compare their performance on the test data. Each of the technique will be coupled with 2 different types of vectorizer, Count Vectorizer and TFIDF Vectorizer. The best model will be selected for further analysis and inference."
   ]
  },
  {
   "cell_type": "markdown",
   "metadata": {},
   "source": [
    "### Logistics Regression"
   ]
  },
  {
   "cell_type": "markdown",
   "metadata": {},
   "source": [
    "#### Count Vectorizer"
   ]
  },
  {
   "cell_type": "code",
   "execution_count": 10,
   "metadata": {},
   "outputs": [
    {
     "name": "stdout",
     "output_type": "stream",
     "text": [
      "Fitting 5 folds for each of 96 candidates, totalling 480 fits\n"
     ]
    },
    {
     "name": "stderr",
     "output_type": "stream",
     "text": [
      "[Parallel(n_jobs=-1)]: Using backend LokyBackend with 8 concurrent workers.\n",
      "[Parallel(n_jobs=-1)]: Done  34 tasks      | elapsed:    4.1s\n",
      "[Parallel(n_jobs=-1)]: Done 184 tasks      | elapsed:   15.8s\n",
      "[Parallel(n_jobs=-1)]: Done 434 tasks      | elapsed:   35.0s\n",
      "[Parallel(n_jobs=-1)]: Done 480 out of 480 | elapsed:   38.5s finished\n"
     ]
    },
    {
     "name": "stdout",
     "output_type": "stream",
     "text": [
      "Training Accuracy:  0.9859872611464968\n",
      "Testing Accuracy:  0.8625954198473282\n",
      "\n",
      "\n"
     ]
    },
    {
     "data": {
      "text/plain": [
       "{'cvec__max_df': 0.9,\n",
       " 'cvec__max_features': 7000,\n",
       " 'cvec__min_df': 3,\n",
       " 'cvec__ngram_range': (1, 2),\n",
       " 'lr__C': 0.1,\n",
       " 'lr__penalty': 'l2'}"
      ]
     },
     "execution_count": 10,
     "metadata": {},
     "output_type": "execute_result"
    }
   ],
   "source": [
    "pipe = Pipeline([\n",
    "    ('cvec', CountVectorizer()),\n",
    "    ('lr', LogisticRegression(solver='liblinear', max_iter=200, random_state=42))\n",
    "])\n",
    "\n",
    "pipe_params = {\n",
    "    'cvec__max_features': [5000, 6000, 7000],\n",
    "    'cvec__max_df': [0.9, 0.95],\n",
    "    'cvec__min_df': [2, 3],\n",
    "    'cvec__ngram_range': [(1,1), (1,2)],\n",
    "    'lr__penalty': ['l1', 'l2'],\n",
    "    'lr__C': [1, 0.1]\n",
    "}\n",
    "\n",
    "gs = GridSearchCV(pipe, pipe_params, cv=5, verbose=True, n_jobs=-1)\n",
    "gs.fit(X_train, y_train)\n",
    "best_lr_cvec = gs.best_estimator_\n",
    "print('Training Accuracy: ', best_lr_cvec.score(X_train, y_train))\n",
    "print('Testing Accuracy: ', best_lr_cvec.score(X_test, y_test))\n",
    "print('\\n')\n",
    "gs.best_params_"
   ]
  },
  {
   "cell_type": "markdown",
   "metadata": {},
   "source": [
    "#### Tfidf Vectorizer"
   ]
  },
  {
   "cell_type": "code",
   "execution_count": 11,
   "metadata": {
    "scrolled": false
   },
   "outputs": [
    {
     "name": "stdout",
     "output_type": "stream",
     "text": [
      "Fitting 5 folds for each of 144 candidates, totalling 720 fits\n"
     ]
    },
    {
     "name": "stderr",
     "output_type": "stream",
     "text": [
      "[Parallel(n_jobs=-1)]: Using backend LokyBackend with 8 concurrent workers.\n",
      "[Parallel(n_jobs=-1)]: Done  34 tasks      | elapsed:    2.4s\n",
      "[Parallel(n_jobs=-1)]: Done 184 tasks      | elapsed:   13.5s\n",
      "[Parallel(n_jobs=-1)]: Done 434 tasks      | elapsed:   44.1s\n",
      "[Parallel(n_jobs=-1)]: Done 720 out of 720 | elapsed:  1.1min finished\n"
     ]
    },
    {
     "name": "stdout",
     "output_type": "stream",
     "text": [
      "Training Accuracy:  0.9420382165605096\n",
      "Testing Accuracy:  0.8880407124681934\n",
      "\n",
      "\n"
     ]
    },
    {
     "data": {
      "text/plain": [
       "{'lr__C': 1,\n",
       " 'lr__penalty': 'l2',\n",
       " 'tvec__max_df': 0.7,\n",
       " 'tvec__max_features': 1500,\n",
       " 'tvec__min_df': 2,\n",
       " 'tvec__ngram_range': (1, 2)}"
      ]
     },
     "execution_count": 11,
     "metadata": {},
     "output_type": "execute_result"
    }
   ],
   "source": [
    "pipe = Pipeline([\n",
    "    ('tvec', TfidfVectorizer()),\n",
    "    ('lr', LogisticRegression(solver='liblinear', max_iter=200, random_state=42))\n",
    "])\n",
    "\n",
    "pipe_params = {\n",
    "    'tvec__max_features': [1000, 1500, 2000],\n",
    "    'tvec__max_df': [0.7, 0.8, 0.9],\n",
    "    'tvec__min_df': [1, 2],\n",
    "    'tvec__ngram_range': [(1,1), (1,2)],\n",
    "    'lr__penalty': ['l1', 'l2'],\n",
    "    'lr__C': [1, 0.1]\n",
    "}\n",
    "\n",
    "gs = GridSearchCV(pipe, pipe_params, cv=5, verbose=True, n_jobs=-1)\n",
    "gs.fit(X_train, y_train)\n",
    "best_lr_tvec = gs.best_estimator_\n",
    "print('Training Accuracy: ', best_lr_tvec.score(X_train, y_train))\n",
    "print('Testing Accuracy: ', best_lr_tvec.score(X_test, y_test))\n",
    "print('\\n')\n",
    "gs.best_params_"
   ]
  },
  {
   "cell_type": "markdown",
   "metadata": {},
   "source": [
    "### Naive-Bayes"
   ]
  },
  {
   "cell_type": "markdown",
   "metadata": {},
   "source": [
    "Next up, we are going to perform the same procedures we did for Logistic Regression earlier on Naive-Bayes Classification. After which we will pick the best performing model for analysis and inference."
   ]
  },
  {
   "cell_type": "markdown",
   "metadata": {},
   "source": [
    "#### Count Vectorizer"
   ]
  },
  {
   "cell_type": "code",
   "execution_count": 12,
   "metadata": {},
   "outputs": [
    {
     "name": "stdout",
     "output_type": "stream",
     "text": [
      "Fitting 4 folds for each of 270 candidates, totalling 1080 fits\n"
     ]
    },
    {
     "name": "stderr",
     "output_type": "stream",
     "text": [
      "[Parallel(n_jobs=-1)]: Using backend LokyBackend with 8 concurrent workers.\n",
      "[Parallel(n_jobs=-1)]: Done  34 tasks      | elapsed:    2.7s\n",
      "[Parallel(n_jobs=-1)]: Done 184 tasks      | elapsed:   14.7s\n",
      "[Parallel(n_jobs=-1)]: Done 434 tasks      | elapsed:   36.0s\n",
      "[Parallel(n_jobs=-1)]: Done 784 tasks      | elapsed:  1.1min\n",
      "[Parallel(n_jobs=-1)]: Done 1080 out of 1080 | elapsed:  1.5min finished\n"
     ]
    },
    {
     "name": "stdout",
     "output_type": "stream",
     "text": [
      "Training Accuracy:  0.9356687898089172\n",
      "Testing Accuracy:  0.8676844783715013\n",
      "\n",
      "\n"
     ]
    },
    {
     "data": {
      "text/plain": [
       "{'cvec__max_df': 0.5,\n",
       " 'cvec__max_features': 4000,\n",
       " 'cvec__min_df': 2,\n",
       " 'cvec__ngram_range': (1, 2),\n",
       " 'nb__alpha': 0.5}"
      ]
     },
     "execution_count": 12,
     "metadata": {},
     "output_type": "execute_result"
    }
   ],
   "source": [
    "pipe = Pipeline([\n",
    "    ('cvec', CountVectorizer()),\n",
    "    ('nb', MultinomialNB())\n",
    "])\n",
    "\n",
    "pipe_params = {\n",
    "    'cvec__max_features': [4000, 5000, 6000],\n",
    "    'cvec__max_df': [0.5, 0.6, 0.7],\n",
    "    'cvec__min_df': [1, 2, 3],\n",
    "    'cvec__ngram_range': [(1,1), (1,2)],\n",
    "    'nb__alpha': np.linspace(0, 1, 5)\n",
    "}\n",
    "\n",
    "gs = GridSearchCV(pipe, pipe_params, cv=4, verbose=True, n_jobs=-1)\n",
    "gs.fit(X_train, y_train)\n",
    "best_nb_cvec = gs.best_estimator_\n",
    "print('Training Accuracy: ', best_nb_cvec.score(X_train, y_train))\n",
    "print('Testing Accuracy: ', best_nb_cvec.score(X_test, y_test))\n",
    "print('\\n')\n",
    "gs.best_params_"
   ]
  },
  {
   "cell_type": "markdown",
   "metadata": {},
   "source": [
    "#### Tfidf Vectorizer"
   ]
  },
  {
   "cell_type": "code",
   "execution_count": 13,
   "metadata": {},
   "outputs": [
    {
     "name": "stdout",
     "output_type": "stream",
     "text": [
      "Fitting 4 folds for each of 270 candidates, totalling 1080 fits\n"
     ]
    },
    {
     "name": "stderr",
     "output_type": "stream",
     "text": [
      "[Parallel(n_jobs=-1)]: Using backend LokyBackend with 8 concurrent workers.\n",
      "[Parallel(n_jobs=-1)]: Done  34 tasks      | elapsed:    2.9s\n",
      "[Parallel(n_jobs=-1)]: Done 184 tasks      | elapsed:   15.7s\n",
      "[Parallel(n_jobs=-1)]: Done 434 tasks      | elapsed:   38.1s\n",
      "[Parallel(n_jobs=-1)]: Done 784 tasks      | elapsed:  1.1min\n",
      "[Parallel(n_jobs=-1)]: Done 1080 out of 1080 | elapsed:  1.6min finished\n"
     ]
    },
    {
     "name": "stdout",
     "output_type": "stream",
     "text": [
      "Training Accuracy:  0.9178343949044586\n",
      "Testing Accuracy:  0.8702290076335878\n",
      "\n",
      "\n"
     ]
    },
    {
     "data": {
      "text/plain": [
       "{'nb__alpha': 0.25,\n",
       " 'tvec__max_df': 0.4,\n",
       " 'tvec__max_features': 2000,\n",
       " 'tvec__min_df': 2,\n",
       " 'tvec__ngram_range': (1, 1)}"
      ]
     },
     "execution_count": 13,
     "metadata": {},
     "output_type": "execute_result"
    }
   ],
   "source": [
    "pipe = Pipeline([\n",
    "    ('tvec', TfidfVectorizer()),\n",
    "    ('nb', MultinomialNB())\n",
    "])\n",
    "\n",
    "pipe_params = {\n",
    "    'tvec__max_features': [1000, 1500, 2000],\n",
    "    'tvec__max_df': [0.4, 0.5, 0.6],\n",
    "    'tvec__min_df': [1, 2, 3],\n",
    "    'tvec__ngram_range': [(1,1), (1,2)],\n",
    "    'nb__alpha': np.linspace(0, 1, 5)\n",
    "}\n",
    "\n",
    "gs = GridSearchCV(pipe, pipe_params, cv=4, verbose=True, n_jobs=-1)\n",
    "gs.fit(X_train, y_train)\n",
    "best_nb_tvec = gs.best_estimator_\n",
    "print('Training Accuracy: ', best_nb_tvec.score(X_train, y_train))\n",
    "print('Testing Accuracy: ', best_nb_tvec.score(X_test, y_test))\n",
    "print('\\n')\n",
    "gs.best_params_"
   ]
  },
  {
   "cell_type": "code",
   "execution_count": 14,
   "metadata": {
    "scrolled": true
   },
   "outputs": [
    {
     "data": {
      "text/html": [
       "<div>\n",
       "<style scoped>\n",
       "    .dataframe tbody tr th:only-of-type {\n",
       "        vertical-align: middle;\n",
       "    }\n",
       "\n",
       "    .dataframe tbody tr th {\n",
       "        vertical-align: top;\n",
       "    }\n",
       "\n",
       "    .dataframe thead th {\n",
       "        text-align: right;\n",
       "    }\n",
       "</style>\n",
       "<table border=\"1\" class=\"dataframe\">\n",
       "  <thead>\n",
       "    <tr style=\"text-align: right;\">\n",
       "      <th></th>\n",
       "      <th>Model</th>\n",
       "      <th>Vectorizer</th>\n",
       "      <th>Cross Validation Score</th>\n",
       "      <th>Testing Score</th>\n",
       "    </tr>\n",
       "  </thead>\n",
       "  <tbody>\n",
       "    <tr>\n",
       "      <th>0</th>\n",
       "      <td>Logistics Regression</td>\n",
       "      <td>Count Vectorizer</td>\n",
       "      <td>0.986</td>\n",
       "      <td>0.863</td>\n",
       "    </tr>\n",
       "    <tr>\n",
       "      <th>1</th>\n",
       "      <td>Logistics Regression</td>\n",
       "      <td>TFIDF Vectorizer</td>\n",
       "      <td>0.942</td>\n",
       "      <td>0.888</td>\n",
       "    </tr>\n",
       "    <tr>\n",
       "      <th>2</th>\n",
       "      <td>Naive-Bayes</td>\n",
       "      <td>Count Vectorizer</td>\n",
       "      <td>0.936</td>\n",
       "      <td>0.868</td>\n",
       "    </tr>\n",
       "    <tr>\n",
       "      <th>3</th>\n",
       "      <td>Naive-Bayes</td>\n",
       "      <td>TFIDF Vectorizer</td>\n",
       "      <td>0.918</td>\n",
       "      <td>0.870</td>\n",
       "    </tr>\n",
       "  </tbody>\n",
       "</table>\n",
       "</div>"
      ],
      "text/plain": [
       "                  Model        Vectorizer  Cross Validation Score  \\\n",
       "0  Logistics Regression  Count Vectorizer                   0.986   \n",
       "1  Logistics Regression  TFIDF Vectorizer                   0.942   \n",
       "2           Naive-Bayes  Count Vectorizer                   0.936   \n",
       "3           Naive-Bayes  TFIDF Vectorizer                   0.918   \n",
       "\n",
       "   Testing Score  \n",
       "0          0.863  \n",
       "1          0.888  \n",
       "2          0.868  \n",
       "3          0.870  "
      ]
     },
     "execution_count": 14,
     "metadata": {},
     "output_type": "execute_result"
    }
   ],
   "source": [
    "models = [best_lr_cvec, best_lr_tvec, best_nb_cvec, best_nb_tvec]\n",
    "name = ['Logistics Regression', 'Logistics Regression', 'Naive-Bayes', 'Naive-Bayes']\n",
    "vec = ['Count Vectorizer', 'TFIDF Vectorizer', 'Count Vectorizer', 'TFIDF Vectorizer']\n",
    "final_list = []\n",
    "\n",
    "for i, model in enumerate(models):\n",
    "    final_dict = dict()\n",
    "    final_dict['Model'] = name[i]\n",
    "    final_dict['Vectorizer'] = vec[i]\n",
    "    final_dict['Cross Validation Score'] = round(model.score(X_train, y_train), 3)\n",
    "    final_dict['Testing Score'] = round(model.score(X_test, y_test), 3)\n",
    "    final_list.append(final_dict)\n",
    "\n",
    "pd.DataFrame(final_list)"
   ]
  },
  {
   "cell_type": "markdown",
   "metadata": {},
   "source": [
    "From the table above, we can see that Logistic Regression with TFIDF Vectorizer perform the best in term of test data accuracy score. However, given that the cross validation score of the training data is higher than the testing accuracy, our model is still slighly overfitted."
   ]
  },
  {
   "cell_type": "markdown",
   "metadata": {},
   "source": [
    "## Evaluation"
   ]
  },
  {
   "cell_type": "markdown",
   "metadata": {},
   "source": [
    "We will now look into the performance of our best model, the Logistic Regression model with TFIDF Vectorizer. So far it has scored a test accuracy score of 0.896, however we are actually more interested in lowering down the Type-II Error instead. Any misclassification of False Negative (Type-II) Error will have serious impact on the effectiveness of our model in capturing thread with suicidal potential, which is the core purpose of the model. But before we move into the tuning of the model, let's find out more about the misclassification."
   ]
  },
  {
   "cell_type": "markdown",
   "metadata": {},
   "source": [
    "One of the easiest way to have an overlook onto the performance of our classification model is to plot a confusion matrix. From there, we are able to see the comparison of Type-I and Type-II error and the proportion in general."
   ]
  },
  {
   "cell_type": "code",
   "execution_count": 15,
   "metadata": {},
   "outputs": [
    {
     "data": {
      "image/png": "[encoded data removed]",
      "text/plain": [
       "<Figure size 576x576 with 2 Axes>"
      ]
     },
     "metadata": {
      "needs_background": "light"
     },
     "output_type": "display_data"
    }
   ],
   "source": [
    "# Plot confusion matrix\n",
    "fig, ax = plt.subplots(figsize=(8,8))\n",
    "plot_confusion_matrix(best_lr_tvec, X_test, y_test, cmap='Blues', ax=ax)\n",
    "plt.savefig('./Images/confusion_matrix_before.png')"
   ]
  },
  {
   "cell_type": "code",
   "execution_count": 16,
   "metadata": {},
   "outputs": [],
   "source": [
    "tn, fp, fn, tp = confusion_matrix(y_test, best_lr_tvec.predict(X_test)).ravel()"
   ]
  },
  {
   "cell_type": "code",
   "execution_count": 17,
   "metadata": {},
   "outputs": [
    {
     "name": "stdout",
     "output_type": "stream",
     "text": [
      "Sensitivity:  0.88\n",
      "Specificity:  0.89\n"
     ]
    }
   ],
   "source": [
    "print(\"Sensitivity: \", round(tp / (tp + fn),2))\n",
    "print(\"Specificity: \", round(tn / (tn + fp),2))"
   ]
  },
  {
   "cell_type": "markdown",
   "metadata": {},
   "source": [
    "From the confusion matrix, we can see that with the relatively high accuracy score of our best model, we still failed to capture 25 of the thread that are potentially suicidal. That gives us a sensitivity of 0.87. The specificity is fairly high at this point, at 0.92. This would give us more room to trade off the specificity with higher sensitivity.\n",
    "\n",
    "To understand the tradeoff between the specificity and sensitivity, we may plot the AUC-ROC curve and look for the optimal point to strike a balance between the two. However, our priority would stil be focusing on increasing the sensitivity."
   ]
  },
  {
   "cell_type": "code",
   "execution_count": 18,
   "metadata": {},
   "outputs": [],
   "source": [
    "def plot_roc(estimator, X_train, X_test, y_train, y_test, filename):\n",
    "    plt.figure(figsize=(10,6))\n",
    "    sensitivity = []\n",
    "    specificity = []\n",
    "    probas = [row[1] for row in estimator.predict_proba(X_test)]\n",
    "    for thresh in np.linspace(0,1,11):\n",
    "        yhat = [1 if row>thresh else 0 for row in probas]\n",
    "        tn, fp, fn, tp = confusion_matrix(y_test, yhat).ravel()\n",
    "        x = 1 - tn/(tn+fp)\n",
    "        y = tp/(tp+fn)\n",
    "        plt.annotate(str(round(thresh, 2)), (x+0.01, y-0.04))\n",
    "        sensitivity.append(y)\n",
    "        specificity.append(x)\n",
    "    sensitivity = np.array(sensitivity)\n",
    "    specificity = np.array(specificity)\n",
    "    plt.plot(specificity, sensitivity, marker='o')\n",
    "    plt.plot([0,1],[0,1], ls='--')\n",
    "    plt.xlabel('False Postive Rate')\n",
    "    plt.ylabel('True Postive Rate')\n",
    "    plt.savefig('./Images/' + filename)"
   ]
  },
  {
   "cell_type": "code",
   "execution_count": 19,
   "metadata": {
    "scrolled": false
   },
   "outputs": [
    {
     "data": {
      "image/png": "[encoded data removed]",
      "text/plain": [
       "<Figure size 720x432 with 1 Axes>"
      ]
     },
     "metadata": {
      "needs_background": "light"
     },
     "output_type": "display_data"
    }
   ],
   "source": [
    "plot_roc(best_lr_tvec, X_train, X_test, y_train, y_test, 'roc_1')"
   ]
  },
  {
   "cell_type": "markdown",
   "metadata": {},
   "source": [
    "From the plot above, we can see that the sensitivity has almost plateaud at the threshold of 0.3 for our Logistic Regression. This would be the optimal threshold that we are looking for, decreasing the threshold more would very little effect on the sensitivity, however, the specificity will continue to drop.\n",
    "\n",
    "As such, we will rebuild the Logistic Regression prediction with a threshold of 0.3, then we will observe the changes in the performance and confusion matrix."
   ]
  },
  {
   "cell_type": "code",
   "execution_count": 20,
   "metadata": {},
   "outputs": [
    {
     "name": "stdout",
     "output_type": "stream",
     "text": [
      "Sensitivity:  0.98\n",
      "Specificity:  0.7\n"
     ]
    }
   ],
   "source": [
    "# Compute for Probability\n",
    "probas = best_lr_tvec.predict_proba(X_test)\n",
    "probas = pd.Series([prob[1] for prob in probas])\n",
    "\n",
    "# Convert probability to binary at Threshold of 0.3\n",
    "yhat = (probas>0.3).astype(int)\n",
    "\n",
    "# Calculate Sensitivity and Specificity\n",
    "tn, fp, fn, tp = confusion_matrix(y_test, yhat).ravel()\n",
    "print(\"Sensitivity: \", round(tp / (tp + fn),2))\n",
    "print(\"Specificity: \", round(tn / (tn + fp),2))"
   ]
  },
  {
   "cell_type": "markdown",
   "metadata": {},
   "source": [
    "From the new confusion matrix that we can observe below, after tweaking the threshold to 0.3, we have succesfully lower down the type-II error to only 8 cases. The sensitivity of our model has increased from the original 0.87 to 0.96. However, this was done at the cost of specificity score. The consequences of Type-II error is far worse than Type-I, so the tradeoff is justifiable."
   ]
  },
  {
   "cell_type": "code",
   "execution_count": 21,
   "metadata": {
    "scrolled": false
   },
   "outputs": [
    {
     "data": {
      "image/png": "[encoded data removed]",
      "text/plain": [
       "<Figure size 576x576 with 2 Axes>"
      ]
     },
     "metadata": {
      "needs_background": "light"
     },
     "output_type": "display_data"
    }
   ],
   "source": [
    "# Re-plot of confusion matrix\n",
    "fig, ax = plt.subplots(figsize=(8,8))\n",
    "disp = ConfusionMatrixDisplay(confusion_matrix=confusion_matrix(y_test, yhat),\n",
    "                              display_labels=[0, 1])\n",
    "\n",
    "disp = disp.plot(include_values=True, cmap='Blues', ax=ax, xticks_rotation=0)\n",
    "\n",
    "plt.savefig('./Images/confusion_matrix_after.png')"
   ]
  },
  {
   "cell_type": "markdown",
   "metadata": {},
   "source": [
    "## Inferences"
   ]
  },
  {
   "cell_type": "markdown",
   "metadata": {},
   "source": [
    "Now that the model is in good shape, we can take a peek at some of the most defining keywords that indicates suicidal nature in any thread. This would help us to understand more about the textual similarities among potential suicide victim."
   ]
  },
  {
   "cell_type": "markdown",
   "metadata": {},
   "source": [
    "### Top Words"
   ]
  },
  {
   "cell_type": "code",
   "execution_count": 22,
   "metadata": {},
   "outputs": [
    {
     "data": {
      "text/html": [
       "<div>\n",
       "<style scoped>\n",
       "    .dataframe tbody tr th:only-of-type {\n",
       "        vertical-align: middle;\n",
       "    }\n",
       "\n",
       "    .dataframe tbody tr th {\n",
       "        vertical-align: top;\n",
       "    }\n",
       "\n",
       "    .dataframe thead th {\n",
       "        text-align: right;\n",
       "    }\n",
       "</style>\n",
       "<table border=\"1\" class=\"dataframe\">\n",
       "  <thead>\n",
       "    <tr style=\"text-align: right;\">\n",
       "      <th></th>\n",
       "      <th>Probablity</th>\n",
       "    </tr>\n",
       "  </thead>\n",
       "  <tbody>\n",
       "    <tr>\n",
       "      <th>kill</th>\n",
       "      <td>61.5</td>\n",
       "    </tr>\n",
       "    <tr>\n",
       "      <th>fuck</th>\n",
       "      <td>14.3</td>\n",
       "    </tr>\n",
       "    <tr>\n",
       "      <th>wish</th>\n",
       "      <td>10.2</td>\n",
       "    </tr>\n",
       "    <tr>\n",
       "      <th>life</th>\n",
       "      <td>7.7</td>\n",
       "    </tr>\n",
       "    <tr>\n",
       "      <th>peopl</th>\n",
       "      <td>7.3</td>\n",
       "    </tr>\n",
       "    <tr>\n",
       "      <th>die</th>\n",
       "      <td>6.8</td>\n",
       "    </tr>\n",
       "    <tr>\n",
       "      <th>end</th>\n",
       "      <td>6.4</td>\n",
       "    </tr>\n",
       "    <tr>\n",
       "      <th>hotlin</th>\n",
       "      <td>6.3</td>\n",
       "    </tr>\n",
       "    <tr>\n",
       "      <th>want die</th>\n",
       "      <td>5.7</td>\n",
       "    </tr>\n",
       "    <tr>\n",
       "      <th>depress</th>\n",
       "      <td>5.3</td>\n",
       "    </tr>\n",
       "    <tr>\n",
       "      <th>wake</th>\n",
       "      <td>4.4</td>\n",
       "    </tr>\n",
       "    <tr>\n",
       "      <th>aliv</th>\n",
       "      <td>4.3</td>\n",
       "    </tr>\n",
       "    <tr>\n",
       "      <th>better</th>\n",
       "      <td>4.1</td>\n",
       "    </tr>\n",
       "    <tr>\n",
       "      <th>get better</th>\n",
       "      <td>4.0</td>\n",
       "    </tr>\n",
       "    <tr>\n",
       "      <th>tire</th>\n",
       "      <td>4.0</td>\n",
       "    </tr>\n",
       "    <tr>\n",
       "      <th>feel</th>\n",
       "      <td>3.9</td>\n",
       "    </tr>\n",
       "    <tr>\n",
       "      <th>anymor</th>\n",
       "      <td>3.9</td>\n",
       "    </tr>\n",
       "    <tr>\n",
       "      <th>attempt</th>\n",
       "      <td>3.8</td>\n",
       "    </tr>\n",
       "    <tr>\n",
       "      <th>hate</th>\n",
       "      <td>3.5</td>\n",
       "    </tr>\n",
       "    <tr>\n",
       "      <th>everyth</th>\n",
       "      <td>3.5</td>\n",
       "    </tr>\n",
       "  </tbody>\n",
       "</table>\n",
       "</div>"
      ],
      "text/plain": [
       "            Probablity\n",
       "kill              61.5\n",
       "fuck              14.3\n",
       "wish              10.2\n",
       "life               7.7\n",
       "peopl              7.3\n",
       "die                6.8\n",
       "end                6.4\n",
       "hotlin             6.3\n",
       "want die           5.7\n",
       "depress            5.3\n",
       "wake               4.4\n",
       "aliv               4.3\n",
       "better             4.1\n",
       "get better         4.0\n",
       "tire               4.0\n",
       "feel               3.9\n",
       "anymor             3.9\n",
       "attempt            3.8\n",
       "hate               3.5\n",
       "everyth            3.5"
      ]
     },
     "execution_count": 22,
     "metadata": {},
     "output_type": "execute_result"
    }
   ],
   "source": [
    "# Top words of the Logistic Regression model\n",
    "top_words = pd.Series(best_lr_tvec.named_steps['lr'].coef_[0],\n",
    "    best_lr_tvec.named_steps['tvec'].get_feature_names()).sort_values(ascending=False).head(20)\n",
    "\n",
    "top_words = round(np.exp(top_words),1)\n",
    "pd.DataFrame(top_words).rename(columns={0:'Probablity'})"
   ]
  },
  {
   "cell_type": "markdown",
   "metadata": {},
   "source": [
    "As shown above are the top 20 keywords, as we see, many of the words are fairly polarized in nature. On one hand, we have negative words such as kill, die, depress, hate and pain. While on the other hand, we have positive words (literal nature and meaning), like wish, alive, better, care and get better.\n",
    "\n",
    "But at the other end of the spectrum, we can see that the bottom words are mainly made up of relatively neutral word. These words at the bottom rung display a stark contrast with the top words that define Class 1."
   ]
  },
  {
   "cell_type": "code",
   "execution_count": 23,
   "metadata": {
    "scrolled": false
   },
   "outputs": [
    {
     "data": {
      "text/html": [
       "<div>\n",
       "<style scoped>\n",
       "    .dataframe tbody tr th:only-of-type {\n",
       "        vertical-align: middle;\n",
       "    }\n",
       "\n",
       "    .dataframe tbody tr th {\n",
       "        vertical-align: top;\n",
       "    }\n",
       "\n",
       "    .dataframe thead th {\n",
       "        text-align: right;\n",
       "    }\n",
       "</style>\n",
       "<table border=\"1\" class=\"dataframe\">\n",
       "  <thead>\n",
       "    <tr style=\"text-align: right;\">\n",
       "      <th></th>\n",
       "      <th>Probablity</th>\n",
       "    </tr>\n",
       "  </thead>\n",
       "  <tbody>\n",
       "    <tr>\n",
       "      <th>edit</th>\n",
       "      <td>0.1</td>\n",
       "    </tr>\n",
       "    <tr>\n",
       "      <th>know</th>\n",
       "      <td>0.1</td>\n",
       "    </tr>\n",
       "    <tr>\n",
       "      <th>updat</th>\n",
       "      <td>0.2</td>\n",
       "    </tr>\n",
       "    <tr>\n",
       "      <th>realli</th>\n",
       "      <td>0.2</td>\n",
       "    </tr>\n",
       "    <tr>\n",
       "      <th>friend</th>\n",
       "      <td>0.2</td>\n",
       "    </tr>\n",
       "    <tr>\n",
       "      <th>karma</th>\n",
       "      <td>0.2</td>\n",
       "    </tr>\n",
       "    <tr>\n",
       "      <th>said</th>\n",
       "      <td>0.3</td>\n",
       "    </tr>\n",
       "    <tr>\n",
       "      <th>work</th>\n",
       "      <td>0.3</td>\n",
       "    </tr>\n",
       "    <tr>\n",
       "      <th>guy</th>\n",
       "      <td>0.3</td>\n",
       "    </tr>\n",
       "    <tr>\n",
       "      <th>ask</th>\n",
       "      <td>0.3</td>\n",
       "    </tr>\n",
       "    <tr>\n",
       "      <th>also</th>\n",
       "      <td>0.3</td>\n",
       "    </tr>\n",
       "    <tr>\n",
       "      <th>phone</th>\n",
       "      <td>0.3</td>\n",
       "    </tr>\n",
       "    <tr>\n",
       "      <th>thank</th>\n",
       "      <td>0.3</td>\n",
       "    </tr>\n",
       "    <tr>\n",
       "      <th>girl</th>\n",
       "      <td>0.3</td>\n",
       "    </tr>\n",
       "    <tr>\n",
       "      <th>lot</th>\n",
       "      <td>0.3</td>\n",
       "    </tr>\n",
       "    <tr>\n",
       "      <th>school</th>\n",
       "      <td>0.3</td>\n",
       "    </tr>\n",
       "    <tr>\n",
       "      <th>situat</th>\n",
       "      <td>0.3</td>\n",
       "    </tr>\n",
       "    <tr>\n",
       "      <th>mom</th>\n",
       "      <td>0.3</td>\n",
       "    </tr>\n",
       "    <tr>\n",
       "      <th>date</th>\n",
       "      <td>0.3</td>\n",
       "    </tr>\n",
       "    <tr>\n",
       "      <th>week</th>\n",
       "      <td>0.3</td>\n",
       "    </tr>\n",
       "  </tbody>\n",
       "</table>\n",
       "</div>"
      ],
      "text/plain": [
       "        Probablity\n",
       "edit           0.1\n",
       "know           0.1\n",
       "updat          0.2\n",
       "realli         0.2\n",
       "friend         0.2\n",
       "karma          0.2\n",
       "said           0.3\n",
       "work           0.3\n",
       "guy            0.3\n",
       "ask            0.3\n",
       "also           0.3\n",
       "phone          0.3\n",
       "thank          0.3\n",
       "girl           0.3\n",
       "lot            0.3\n",
       "school         0.3\n",
       "situat         0.3\n",
       "mom            0.3\n",
       "date           0.3\n",
       "week           0.3"
      ]
     },
     "execution_count": 23,
     "metadata": {},
     "output_type": "execute_result"
    }
   ],
   "source": [
    "bottom_words = pd.Series(best_lr_tvec.named_steps['lr'].coef_[0],\n",
    "    best_lr_tvec.named_steps['tvec'].get_feature_names()).sort_values().head(20)\n",
    "\n",
    "bottom_words = round(np.exp(bottom_words),1)\n",
    "pd.DataFrame(bottom_words).rename(columns={0:'Probablity'})"
   ]
  },
  {
   "cell_type": "code",
   "execution_count": 24,
   "metadata": {},
   "outputs": [],
   "source": [
    "# Probability of Class-1 Prediction\n",
    "probas = [row[1] for row in best_lr_tvec.predict_proba(X_test)]\n",
    "\n",
    "# Getting the full text for better analysis\n",
    "full_text = df.iloc[X_test.index]['full_text']\n",
    "\n",
    "# Create a dataframe with the data\n",
    "comparison_df = pd.DataFrame([full_text.reset_index(drop=True), y_test.reset_index(drop=True), \n",
    "                              yhat, pd.Series(probas)]).T\n",
    "\n",
    "comparison_df = comparison_df.rename(columns={'suicidal': 'actual', \n",
    "                                              'Unnamed 0':'predict', \n",
    "                                              'Unnamed 1': 'probability'})"
   ]
  },
  {
   "cell_type": "code",
   "execution_count": 25,
   "metadata": {
    "scrolled": true
   },
   "outputs": [
    {
     "data": {
      "text/html": [
       "<div>\n",
       "<style scoped>\n",
       "    .dataframe tbody tr th:only-of-type {\n",
       "        vertical-align: middle;\n",
       "    }\n",
       "\n",
       "    .dataframe tbody tr th {\n",
       "        vertical-align: top;\n",
       "    }\n",
       "\n",
       "    .dataframe thead th {\n",
       "        text-align: right;\n",
       "    }\n",
       "</style>\n",
       "<table border=\"1\" class=\"dataframe\">\n",
       "  <thead>\n",
       "    <tr style=\"text-align: right;\">\n",
       "      <th></th>\n",
       "      <th>full_text</th>\n",
       "      <th>actual</th>\n",
       "      <th>predict</th>\n",
       "      <th>probability</th>\n",
       "    </tr>\n",
       "  </thead>\n",
       "  <tbody>\n",
       "    <tr>\n",
       "      <th>243</th>\n",
       "      <td>Wanted to share this with you guys - I asked o...</td>\n",
       "      <td>1</td>\n",
       "      <td>0</td>\n",
       "      <td>0.160899</td>\n",
       "    </tr>\n",
       "    <tr>\n",
       "      <th>70</th>\n",
       "      <td>I receive two messages a day, one that my phon...</td>\n",
       "      <td>1</td>\n",
       "      <td>0</td>\n",
       "      <td>0.234955</td>\n",
       "    </tr>\n",
       "    <tr>\n",
       "      <th>12</th>\n",
       "      <td>Hey suicide watch family, im just checking in ...</td>\n",
       "      <td>1</td>\n",
       "      <td>0</td>\n",
       "      <td>0.279845</td>\n",
       "    </tr>\n",
       "    <tr>\n",
       "      <th>8</th>\n",
       "      <td>My girlfriend killed herself a week after we b...</td>\n",
       "      <td>1</td>\n",
       "      <td>0</td>\n",
       "      <td>0.288822</td>\n",
       "    </tr>\n",
       "  </tbody>\n",
       "</table>\n",
       "</div>"
      ],
      "text/plain": [
       "                                             full_text actual predict  \\\n",
       "243  Wanted to share this with you guys - I asked o...      1       0   \n",
       "70   I receive two messages a day, one that my phon...      1       0   \n",
       "12   Hey suicide watch family, im just checking in ...      1       0   \n",
       "8    My girlfriend killed herself a week after we b...      1       0   \n",
       "\n",
       "    probability  \n",
       "243    0.160899  \n",
       "70     0.234955  \n",
       "12     0.279845  \n",
       "8      0.288822  "
      ]
     },
     "execution_count": 25,
     "metadata": {},
     "output_type": "execute_result"
    }
   ],
   "source": [
    "# Filtering out only the type 2 error\n",
    "type2_error = comparison_df[(comparison_df['actual']==1) & (comparison_df['predict']==0)]\n",
    "\n",
    "type2_error.sort_values('probability')"
   ]
  },
  {
   "cell_type": "code",
   "execution_count": 26,
   "metadata": {},
   "outputs": [
    {
     "data": {
      "text/plain": [
       "'I receive two messages a day, one that my phone is at 15%, and the other that my phone is at 5%. edit: Thank you for the kind words everyone, each and every one of you brightened my day a bit. Also GOLD HYPERS!'"
      ]
     },
     "execution_count": 26,
     "metadata": {},
     "output_type": "execute_result"
    }
   ],
   "source": [
    "comparison_df.iloc[70]['full_text']"
   ]
  },
  {
   "cell_type": "markdown",
   "metadata": {},
   "source": [
    "As seen from one of the thread above, it is possible that there are threads in the 'Suicidal Watch' subreddit that does not exhibit suicidal nature at all. The same thing might happen to the 'General Advice' subreddit, let's check out on that."
   ]
  },
  {
   "cell_type": "code",
   "execution_count": 27,
   "metadata": {
    "scrolled": false
   },
   "outputs": [
    {
     "data": {
      "text/html": [
       "<div>\n",
       "<style scoped>\n",
       "    .dataframe tbody tr th:only-of-type {\n",
       "        vertical-align: middle;\n",
       "    }\n",
       "\n",
       "    .dataframe tbody tr th {\n",
       "        vertical-align: top;\n",
       "    }\n",
       "\n",
       "    .dataframe thead th {\n",
       "        text-align: right;\n",
       "    }\n",
       "</style>\n",
       "<table border=\"1\" class=\"dataframe\">\n",
       "  <thead>\n",
       "    <tr style=\"text-align: right;\">\n",
       "      <th></th>\n",
       "      <th>full_text</th>\n",
       "      <th>actual</th>\n",
       "      <th>predict</th>\n",
       "      <th>probability</th>\n",
       "    </tr>\n",
       "  </thead>\n",
       "  <tbody>\n",
       "    <tr>\n",
       "      <th>11</th>\n",
       "      <td>I killed a lizard and I'm afraid somethings wr...</td>\n",
       "      <td>0</td>\n",
       "      <td>1</td>\n",
       "      <td>0.824273</td>\n",
       "    </tr>\n",
       "    <tr>\n",
       "      <th>122</th>\n",
       "      <td>How to talk to parents about assisted suicide?...</td>\n",
       "      <td>0</td>\n",
       "      <td>1</td>\n",
       "      <td>0.731061</td>\n",
       "    </tr>\n",
       "    <tr>\n",
       "      <th>31</th>\n",
       "      <td>I have an existential crisis Im only 20, but w...</td>\n",
       "      <td>0</td>\n",
       "      <td>1</td>\n",
       "      <td>0.711277</td>\n",
       "    </tr>\n",
       "    <tr>\n",
       "      <th>311</th>\n",
       "      <td>I'm feeling suicidal over stupid shit, I need ...</td>\n",
       "      <td>0</td>\n",
       "      <td>1</td>\n",
       "      <td>0.707632</td>\n",
       "    </tr>\n",
       "    <tr>\n",
       "      <th>233</th>\n",
       "      <td>A spider laid an egg in my room and it hatched...</td>\n",
       "      <td>0</td>\n",
       "      <td>1</td>\n",
       "      <td>0.70356</td>\n",
       "    </tr>\n",
       "  </tbody>\n",
       "</table>\n",
       "</div>"
      ],
      "text/plain": [
       "                                             full_text actual predict  \\\n",
       "11   I killed a lizard and I'm afraid somethings wr...      0       1   \n",
       "122  How to talk to parents about assisted suicide?...      0       1   \n",
       "31   I have an existential crisis Im only 20, but w...      0       1   \n",
       "311  I'm feeling suicidal over stupid shit, I need ...      0       1   \n",
       "233  A spider laid an egg in my room and it hatched...      0       1   \n",
       "\n",
       "    probability  \n",
       "11     0.824273  \n",
       "122    0.731061  \n",
       "31     0.711277  \n",
       "311    0.707632  \n",
       "233     0.70356  "
      ]
     },
     "execution_count": 27,
     "metadata": {},
     "output_type": "execute_result"
    }
   ],
   "source": [
    "# Filtering out only the type 1 error\n",
    "type1_error = comparison_df[(comparison_df['actual']==0) & (comparison_df['predict']==1)]\n",
    "\n",
    "# Showing type 1 error with very high probability\n",
    "type1_error.sort_values('probability', ascending=False).head()"
   ]
  },
  {
   "cell_type": "code",
   "execution_count": 28,
   "metadata": {},
   "outputs": [
    {
     "data": {
      "text/plain": [
       "\"School shooting? So there's a kid in my class who's really sketchy and me and him had a fight and he passed me and told me not to come to school on Monday, today is Sunday and I'm a little scared because he always talks about having guns, but he is known for lying, but it still makes my a little bit nervous. What should I do?\""
      ]
     },
     "execution_count": 28,
     "metadata": {},
     "output_type": "execute_result"
    }
   ],
   "source": [
    "comparison_df.iloc[327]['full_text']"
   ]
  },
  {
   "cell_type": "markdown",
   "metadata": {},
   "source": [
    "From the text above, it's not hard to see that the user might be suffering from depression and are asking for advice to stay alive. So it would be sensible to move under the 'Suicide Watch' radar so that he/she may get the much needed emotional support or advice. So as expected, sometimes people do post their thread with the wrong subreddit tag, or they simply have no knowledge of suicide watch on reddit."
   ]
  },
  {
   "cell_type": "markdown",
   "metadata": {},
   "source": [
    "## Control Set"
   ]
  },
  {
   "cell_type": "markdown",
   "metadata": {},
   "source": [
    "This is only a control test to compare the model performance if we do not remove any word from the dataset that would cause data leakage; where in reality, might be a very critical keyword in boosting the model accuracy that we do not want to remove."
   ]
  },
  {
   "cell_type": "code",
   "execution_count": 29,
   "metadata": {},
   "outputs": [],
   "source": [
    "control_df = pd.read_csv('./Datasets/control_set_data.csv')\n",
    "X_C = control_df['text']\n",
    "y_C = control_df['suicidal']\n",
    "X_train_C, X_test_C, y_train_C, y_test_C = train_test_split(X_C, y_C, test_size = 0.2, \n",
    "                                                    random_state=42, stratify=y)"
   ]
  },
  {
   "cell_type": "markdown",
   "metadata": {},
   "source": [
    "Since the combination of Logistic Regression and TFIDF vectorizer has performed the best for the original dataset that we worked on, we will use the same model on this control set so that it is comparable."
   ]
  },
  {
   "cell_type": "code",
   "execution_count": 30,
   "metadata": {
    "scrolled": true
   },
   "outputs": [
    {
     "name": "stdout",
     "output_type": "stream",
     "text": [
      "Fitting 5 folds for each of 144 candidates, totalling 720 fits\n"
     ]
    },
    {
     "name": "stderr",
     "output_type": "stream",
     "text": [
      "[Parallel(n_jobs=-1)]: Using backend LokyBackend with 8 concurrent workers.\n",
      "[Parallel(n_jobs=-1)]: Done  34 tasks      | elapsed:    2.6s\n",
      "[Parallel(n_jobs=-1)]: Done 184 tasks      | elapsed:   16.7s\n",
      "[Parallel(n_jobs=-1)]: Done 434 tasks      | elapsed:   43.4s\n",
      "[Parallel(n_jobs=-1)]: Done 720 out of 720 | elapsed:  1.2min finished\n"
     ]
    },
    {
     "name": "stdout",
     "output_type": "stream",
     "text": [
      "Training Accuracy:  0.956687898089172\n",
      "Testing Accuracy:  0.8931297709923665\n",
      "\n",
      "\n"
     ]
    },
    {
     "data": {
      "text/plain": [
       "{'lr__C': 1,\n",
       " 'lr__penalty': 'l2',\n",
       " 'tvec__max_df': 0.9,\n",
       " 'tvec__max_features': 2000,\n",
       " 'tvec__min_df': 2,\n",
       " 'tvec__ngram_range': (1, 2)}"
      ]
     },
     "execution_count": 30,
     "metadata": {},
     "output_type": "execute_result"
    }
   ],
   "source": [
    "pipe = Pipeline([\n",
    "    ('tvec', TfidfVectorizer()),\n",
    "    ('lr', LogisticRegression(solver='liblinear', max_iter=200, random_state=42))\n",
    "])\n",
    "\n",
    "pipe_params = {\n",
    "    'tvec__max_features': [2000, 2500, 3000],\n",
    "    'tvec__max_df': [0.9, 0.95],\n",
    "    'tvec__min_df': [1, 2],\n",
    "    'tvec__ngram_range': [(1,1), (1,2)],\n",
    "    'lr__penalty': ['l1', 'l2'],\n",
    "    'lr__C': [1, 0.5, 0.1]\n",
    "}\n",
    "\n",
    "gs = GridSearchCV(pipe, pipe_params, cv=5, verbose=True, n_jobs=-1)\n",
    "gs.fit(X_train_C, y_train_C)\n",
    "best_lr_tvec_C = gs.best_estimator_\n",
    "print('Training Accuracy: ', best_lr_tvec_C.score(X_train_C, y_train_C))\n",
    "print('Testing Accuracy: ', best_lr_tvec_C.score(X_test_C, y_test_C))\n",
    "print('\\n')\n",
    "gs.best_params_"
   ]
  },
  {
   "cell_type": "code",
   "execution_count": 31,
   "metadata": {},
   "outputs": [
    {
     "data": {
      "text/html": [
       "<div>\n",
       "<style scoped>\n",
       "    .dataframe tbody tr th:only-of-type {\n",
       "        vertical-align: middle;\n",
       "    }\n",
       "\n",
       "    .dataframe tbody tr th {\n",
       "        vertical-align: top;\n",
       "    }\n",
       "\n",
       "    .dataframe thead th {\n",
       "        text-align: right;\n",
       "    }\n",
       "</style>\n",
       "<table border=\"1\" class=\"dataframe\">\n",
       "  <thead>\n",
       "    <tr style=\"text-align: right;\">\n",
       "      <th></th>\n",
       "      <th>Model</th>\n",
       "      <th>Cross Validation Score</th>\n",
       "      <th>Testing Score</th>\n",
       "    </tr>\n",
       "  </thead>\n",
       "  <tbody>\n",
       "    <tr>\n",
       "      <th>0</th>\n",
       "      <td>Original Data</td>\n",
       "      <td>0.942</td>\n",
       "      <td>0.888</td>\n",
       "    </tr>\n",
       "    <tr>\n",
       "      <th>1</th>\n",
       "      <td>Control Set</td>\n",
       "      <td>0.957</td>\n",
       "      <td>0.893</td>\n",
       "    </tr>\n",
       "  </tbody>\n",
       "</table>\n",
       "</div>"
      ],
      "text/plain": [
       "           Model  Cross Validation Score  Testing Score\n",
       "0  Original Data                   0.942          0.888\n",
       "1    Control Set                   0.957          0.893"
      ]
     },
     "execution_count": 31,
     "metadata": {},
     "output_type": "execute_result"
    }
   ],
   "source": [
    "models = [best_lr_tvec, best_lr_tvec_C]\n",
    "name = ['Original Data', 'Control Set']\n",
    "trainset = [X_train, X_train_C]\n",
    "testset = [X_test, X_test_C]\n",
    "final_list = []\n",
    "\n",
    "for i, model in enumerate(models):\n",
    "    final_dict = dict()\n",
    "    final_dict['Model'] = name[i]\n",
    "    final_dict['Cross Validation Score'] = round(model.score(trainset[i], y_train), 3)\n",
    "    final_dict['Testing Score'] = round(model.score(testset[i], y_test), 3)\n",
    "    final_list.append(final_dict)\n",
    "\n",
    "pd.DataFrame(final_list)"
   ]
  },
  {
   "cell_type": "markdown",
   "metadata": {},
   "source": [
    "The table above has shown that the control set indeed performs slightly better than the original dataset without data leakage. It has only a False Negative number of 21, comparing to 25 in the original dataset."
   ]
  },
  {
   "cell_type": "code",
   "execution_count": 32,
   "metadata": {},
   "outputs": [
    {
     "data": {
      "image/png": "[encoded data removed]",
      "text/plain": [
       "<Figure size 576x576 with 2 Axes>"
      ]
     },
     "metadata": {
      "needs_background": "light"
     },
     "output_type": "display_data"
    }
   ],
   "source": [
    "fig, ax = plt.subplots(figsize=(8,8))\n",
    "plot_confusion_matrix(best_lr_tvec_C, X_test_C, y_test_C, cmap='Blues', ax=ax)\n",
    "plt.savefig('./Images/control_set_before')"
   ]
  },
  {
   "cell_type": "markdown",
   "metadata": {},
   "source": [
    "The ROC-AUC curve is also slightly more upright on the top-left corner, showing better seperation of class 0 and 1. Once again, we can tweak the threshold from 0.5 down to 0.3 to increase the sensitivity of our model. It is an optimal point for this case as well, any adjustment of the threshold further will no longer contribute much to the sensitivity."
   ]
  },
  {
   "cell_type": "code",
   "execution_count": 33,
   "metadata": {
    "scrolled": false
   },
   "outputs": [
    {
     "data": {
      "image/png": "[encoded data removed]",
      "text/plain": [
       "<Figure size 720x432 with 1 Axes>"
      ]
     },
     "metadata": {
      "needs_background": "light"
     },
     "output_type": "display_data"
    }
   ],
   "source": [
    "plot_roc(best_lr_tvec_C, X_train_C, X_test_C, y_train_C, y_test_C, 'roc_control')"
   ]
  },
  {
   "cell_type": "code",
   "execution_count": 34,
   "metadata": {},
   "outputs": [],
   "source": [
    "probas = best_lr_tvec_C.predict_proba(X_test_C)\n",
    "probas = pd.Series([prob[1] for prob in probas])\n",
    "\n",
    "yhat_C = (probas>0.3).astype(int)"
   ]
  },
  {
   "cell_type": "code",
   "execution_count": 35,
   "metadata": {},
   "outputs": [
    {
     "data": {
      "image/png": "[encoded data removed]",
      "text/plain": [
       "<Figure size 576x576 with 2 Axes>"
      ]
     },
     "metadata": {
      "needs_background": "light"
     },
     "output_type": "display_data"
    }
   ],
   "source": [
    "fig, ax = plt.subplots(figsize=(8,8))\n",
    "disp = ConfusionMatrixDisplay(confusion_matrix=confusion_matrix(y_test_C, yhat_C),\n",
    "                              display_labels=[0, 1])\n",
    "\n",
    "disp = disp.plot(include_values=True,\n",
    "                 cmap='Blues', ax=ax, xticks_rotation=0)\n",
    "\n",
    "plt.savefig('./Images/control_set_after')"
   ]
  },
  {
   "cell_type": "markdown",
   "metadata": {},
   "source": [
    "From the confusion matrix, we can see that after the adjustment on the threshold, the False Negative has dropped from the original 25 to only 4 cases, is a huge improvement."
   ]
  },
  {
   "cell_type": "code",
   "execution_count": 36,
   "metadata": {},
   "outputs": [],
   "source": [
    "# Filtering only the type-II and I error\n",
    "full_text = df.iloc[X_test_C.index]['full_text']\n",
    "\n",
    "comparison_df = pd.DataFrame([full_text.reset_index(drop=True), y_test_C.reset_index(drop=True), \n",
    "                              yhat_C, pd.Series(probas)]).T\n",
    "\n",
    "comparison_df = comparison_df.rename(columns={'suicidal': 'actual', \n",
    "                                              'Unnamed 0':'predict', \n",
    "                                              'Unnamed 1': 'probability'})\n",
    "\n",
    "type2_error = comparison_df[(comparison_df['actual']==1) & (comparison_df['predict']==0)].reset_index(drop=True)\n",
    "type1_error = comparison_df[(comparison_df['actual']==0) & (comparison_df['predict']==1)].reset_index(drop=True)"
   ]
  },
  {
   "cell_type": "code",
   "execution_count": 37,
   "metadata": {
    "scrolled": true
   },
   "outputs": [
    {
     "data": {
      "text/html": [
       "<div>\n",
       "<style scoped>\n",
       "    .dataframe tbody tr th:only-of-type {\n",
       "        vertical-align: middle;\n",
       "    }\n",
       "\n",
       "    .dataframe tbody tr th {\n",
       "        vertical-align: top;\n",
       "    }\n",
       "\n",
       "    .dataframe thead th {\n",
       "        text-align: right;\n",
       "    }\n",
       "</style>\n",
       "<table border=\"1\" class=\"dataframe\">\n",
       "  <thead>\n",
       "    <tr style=\"text-align: right;\">\n",
       "      <th></th>\n",
       "      <th>full_text</th>\n",
       "      <th>actual</th>\n",
       "      <th>predict</th>\n",
       "      <th>probability</th>\n",
       "    </tr>\n",
       "  </thead>\n",
       "  <tbody>\n",
       "    <tr>\n",
       "      <th>2</th>\n",
       "      <td>Wanted to share this with you guys - I asked o...</td>\n",
       "      <td>1</td>\n",
       "      <td>0</td>\n",
       "      <td>0.15922</td>\n",
       "    </tr>\n",
       "    <tr>\n",
       "      <th>1</th>\n",
       "      <td>I receive two messages a day, one that my phon...</td>\n",
       "      <td>1</td>\n",
       "      <td>0</td>\n",
       "      <td>0.242091</td>\n",
       "    </tr>\n",
       "    <tr>\n",
       "      <th>0</th>\n",
       "      <td>My girlfriend killed herself a week after we b...</td>\n",
       "      <td>1</td>\n",
       "      <td>0</td>\n",
       "      <td>0.298538</td>\n",
       "    </tr>\n",
       "  </tbody>\n",
       "</table>\n",
       "</div>"
      ],
      "text/plain": [
       "                                           full_text actual predict  \\\n",
       "2  Wanted to share this with you guys - I asked o...      1       0   \n",
       "1  I receive two messages a day, one that my phon...      1       0   \n",
       "0  My girlfriend killed herself a week after we b...      1       0   \n",
       "\n",
       "  probability  \n",
       "2     0.15922  \n",
       "1    0.242091  \n",
       "0    0.298538  "
      ]
     },
     "execution_count": 37,
     "metadata": {},
     "output_type": "execute_result"
    }
   ],
   "source": [
    "type2_error.sort_values('probability')"
   ]
  },
  {
   "cell_type": "markdown",
   "metadata": {},
   "source": [
    "## Conclusion"
   ]
  },
  {
   "cell_type": "markdown",
   "metadata": {},
   "source": [
    "Our model has successfully classify most of the cases to the correct subreddit, in fact, up to 90% of the thread. However, we have discussed on the importance of reducing the number of False Negative (Type-II error), but the reduction has to be done at the cost increasing False Positive (Type-I error). The optimal point to adjust the threshold can be observed from the AUC-ROC curve of or model.\n",
    "\n",
    "By tweaking the threshold from 0.5 down to 0.3, our model has became more sensitive in capturing the Class 1 threads. Nevertheless, our model can be further improved by introducing a vote classifier and incorporate some CART (Classfication and Regression Tree) techniques into the pool of model. With this, the different type of model will be to compensate each others' weakness and provide a more accurate classification.\n",
    "\n",
    "Apart from that, we may also try to include other some subreddit that are similar in nature but not suicidal to increase our sample size. One such example would be r/Confession subreddit. By increasing the sample size, our model will be equipped with a larger word base to better predict the class 0, and in turns improve the overall accuracy."
   ]
  }
 ],
 "metadata": {
  "kernelspec": {
   "display_name": "Python 3",
   "language": "python",
   "name": "python3"
  },
  "language_info": {
   "codemirror_mode": {
    "name": "ipython",
    "version": 3
   },
   "file_extension": ".py",
   "mimetype": "text/x-python",
   "name": "python",
   "nbconvert_exporter": "python",
   "pygments_lexer": "ipython3",
   "version": "3.7.4"
  },
  "toc": {
   "base_numbering": 1,
   "nav_menu": {},
   "number_sections": true,
   "sideBar": true,
   "skip_h1_title": true,
   "title_cell": "Table of Contents",
   "title_sidebar": "Contents",
   "toc_cell": true,
   "toc_position": {},
   "toc_section_display": true,
   "toc_window_display": false
  }
 },
 "nbformat": 4,
 "nbformat_minor": 4
}
